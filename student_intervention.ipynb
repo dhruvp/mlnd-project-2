{
 "cells": [
  {
   "cell_type": "markdown",
   "metadata": {},
   "source": [
    "# Machine Learning Engineer Nanodegree\n",
    "## Supervised Learning\n",
    "## Project 2: Building a Student Intervention System"
   ]
  },
  {
   "cell_type": "markdown",
   "metadata": {},
   "source": [
    "Welcome to the second project of the Machine Learning Engineer Nanodegree! In this notebook, some template code has already been provided for you, and it will be your job to implement the additional functionality necessary to successfully complete this project. Sections that begin with **'Implementation'** in the header indicate that the following block of code will require additional functionality which you must provide. Instructions will be provided for each section and the specifics of the implementation are marked in the code block with a `'TODO'` statement. Please be sure to read the instructions carefully!\n",
    "\n",
    "In addition to implementing code, there will be questions that you must answer which relate to the project and your implementation. Each section where you will answer a question is preceded by a **'Question X'** header. Carefully read each question and provide thorough answers in the following text boxes that begin with **'Answer:'**. Your project submission will be evaluated based on your answers to each of the questions and the implementation you provide.  \n",
    "\n",
    ">**Note:** Code and Markdown cells can be executed using the **Shift + Enter** keyboard shortcut. In addition, Markdown cells can be edited by typically double-clicking the cell to enter edit mode."
   ]
  },
  {
   "cell_type": "markdown",
   "metadata": {},
   "source": [
    "### Question 1 - Classification vs. Regression\n",
    "*Your goal for this project is to identify students who might need early intervention before they fail to graduate. Which type of supervised learning problem is this, classification or regression? Why?*"
   ]
  },
  {
   "cell_type": "markdown",
   "metadata": {},
   "source": [
    "**Answer: **\n",
    "\n",
    "This is a classification problem as our goal is to pool students into one of two groups: \"at risk\", or \"not at risk\". The output space is clearly not continuous and is such not a regression."
   ]
  },
  {
   "cell_type": "markdown",
   "metadata": {},
   "source": [
    "## Exploring the Data\n",
    "Run the code cell below to load necessary Python libraries and load the student data. Note that the last column from this dataset, `'passed'`, will be our target label (whether the student graduated or didn't graduate). All other columns are features about each student."
   ]
  },
  {
   "cell_type": "code",
   "execution_count": 2,
   "metadata": {
    "collapsed": false
   },
   "outputs": [
    {
     "name": "stdout",
     "output_type": "stream",
     "text": [
      "Student data read successfully!\n"
     ]
    }
   ],
   "source": [
    "# Import libraries\n",
    "import numpy as np\n",
    "import pandas as pd\n",
    "from time import time\n",
    "from sklearn.metrics import f1_score\n",
    "\n",
    "# Read student data\n",
    "student_data = pd.read_csv(\"student-data.csv\")\n",
    "print \"Student data read successfully!\""
   ]
  },
  {
   "cell_type": "code",
   "execution_count": null,
   "metadata": {
    "collapsed": true
   },
   "outputs": [],
   "source": []
  },
  {
   "cell_type": "code",
   "execution_count": null,
   "metadata": {
    "collapsed": true
   },
   "outputs": [],
   "source": []
  },
  {
   "cell_type": "code",
   "execution_count": 7,
   "metadata": {
    "collapsed": false
   },
   "outputs": [
    {
     "name": "stdout",
     "output_type": "stream",
     "text": [
      "    school sex  age address famsize Pstatus  Medu  Fedu      Mjob      Fjob  \\\n",
      "2       GP   F   15       U     LE3       T     1     1   at_home     other   \n",
      "3       GP   F   15       U     GT3       T     4     2    health  services   \n",
      "4       GP   F   16       U     GT3       T     3     3     other     other   \n",
      "5       GP   M   16       U     LE3       T     4     3  services     other   \n",
      "6       GP   M   16       U     LE3       T     2     2     other     other   \n",
      "8       GP   M   15       U     LE3       A     3     2  services     other   \n",
      "9       GP   M   15       U     GT3       T     3     4     other     other   \n",
      "11      GP   F   15       U     GT3       T     2     1  services     other   \n",
      "12      GP   M   15       U     LE3       T     4     4    health  services   \n",
      "13      GP   M   15       U     GT3       T     4     3   teacher     other   \n",
      "14      GP   M   15       U     GT3       A     2     2     other     other   \n",
      "15      GP   F   16       U     GT3       T     4     4    health     other   \n",
      "16      GP   F   16       U     GT3       T     4     4  services  services   \n",
      "17      GP   F   16       U     GT3       T     3     3     other     other   \n",
      "19      GP   M   16       U     LE3       T     4     3    health     other   \n",
      "20      GP   M   15       U     GT3       T     4     3   teacher     other   \n",
      "21      GP   M   15       U     GT3       T     4     4    health    health   \n",
      "22      GP   M   16       U     LE3       T     4     2   teacher     other   \n",
      "23      GP   M   16       U     LE3       T     2     2     other     other   \n",
      "26      GP   M   15       U     GT3       T     2     2     other     other   \n",
      "27      GP   M   15       U     GT3       T     4     2    health  services   \n",
      "28      GP   M   16       U     LE3       A     3     4  services     other   \n",
      "29      GP   M   16       U     GT3       T     4     4   teacher   teacher   \n",
      "30      GP   M   15       U     GT3       T     4     4    health  services   \n",
      "31      GP   M   15       U     GT3       T     4     4  services  services   \n",
      "32      GP   M   15       R     GT3       T     4     3   teacher   at_home   \n",
      "33      GP   M   15       U     LE3       T     3     3     other     other   \n",
      "34      GP   M   16       U     GT3       T     3     2     other     other   \n",
      "36      GP   M   15       U     LE3       T     4     3   teacher  services   \n",
      "37      GP   M   16       R     GT3       A     4     4     other   teacher   \n",
      "..     ...  ..  ...     ...     ...     ...   ...   ...       ...       ...   \n",
      "348     GP   F   17       U     GT3       T     4     3    health     other   \n",
      "349     MS   M   18       R     GT3       T     3     2     other     other   \n",
      "351     MS   M   17       U     GT3       T     3     3    health     other   \n",
      "354     MS   M   17       R     GT3       T     4     3  services     other   \n",
      "356     MS   F   17       R     GT3       T     4     4   teacher  services   \n",
      "357     MS   F   17       U     LE3       A     3     2  services     other   \n",
      "358     MS   M   18       U     LE3       T     1     1     other  services   \n",
      "359     MS   F   18       U     LE3       T     1     1   at_home  services   \n",
      "360     MS   F   18       R     LE3       A     1     4   at_home     other   \n",
      "361     MS   M   18       R     LE3       T     1     1   at_home     other   \n",
      "362     MS   F   18       U     GT3       T     3     3  services  services   \n",
      "363     MS   F   17       U     LE3       T     4     4   at_home   at_home   \n",
      "364     MS   F   17       R     GT3       T     1     2     other  services   \n",
      "365     MS   M   18       R     GT3       T     1     3   at_home     other   \n",
      "366     MS   M   18       U     LE3       T     4     4   teacher  services   \n",
      "368     MS   F   18       U     GT3       T     2     3   at_home  services   \n",
      "369     MS   F   18       R     GT3       T     4     4     other   teacher   \n",
      "371     MS   M   18       R     LE3       T     1     2   at_home  services   \n",
      "372     MS   F   17       U     GT3       T     2     2     other   at_home   \n",
      "374     MS   F   18       R     LE3       T     4     4     other     other   \n",
      "375     MS   F   18       R     GT3       T     1     1     other     other   \n",
      "376     MS   F   20       U     GT3       T     4     2    health     other   \n",
      "377     MS   F   18       R     LE3       T     4     4   teacher  services   \n",
      "378     MS   F   18       U     GT3       T     3     3     other     other   \n",
      "379     MS   F   17       R     GT3       T     3     1   at_home     other   \n",
      "380     MS   M   18       U     GT3       T     4     4   teacher   teacher   \n",
      "382     MS   M   17       U     GT3       T     2     3     other  services   \n",
      "385     MS   F   18       R     GT3       T     2     2   at_home     other   \n",
      "391     MS   M   17       U     LE3       T     3     1  services  services   \n",
      "393     MS   M   18       R     LE3       T     3     2  services     other   \n",
      "\n",
      "     ...   internet romantic  famrel  freetime  goout Dalc Walc health  \\\n",
      "2    ...        yes       no       4         3      2    2    3      3   \n",
      "3    ...        yes      yes       3         2      2    1    1      5   \n",
      "4    ...         no       no       4         3      2    1    2      5   \n",
      "5    ...        yes       no       5         4      2    1    2      5   \n",
      "6    ...        yes       no       4         4      4    1    1      3   \n",
      "8    ...        yes       no       4         2      2    1    1      1   \n",
      "9    ...        yes       no       5         5      1    1    1      5   \n",
      "11   ...        yes       no       5         2      2    1    1      4   \n",
      "12   ...        yes       no       4         3      3    1    3      5   \n",
      "13   ...        yes       no       5         4      3    1    2      3   \n",
      "14   ...        yes      yes       4         5      2    1    1      3   \n",
      "15   ...        yes       no       4         4      4    1    2      2   \n",
      "16   ...        yes       no       3         2      3    1    2      2   \n",
      "17   ...         no       no       5         3      2    1    1      4   \n",
      "19   ...        yes       no       3         1      3    1    3      5   \n",
      "20   ...        yes       no       4         4      1    1    1      1   \n",
      "21   ...        yes       no       5         4      2    1    1      5   \n",
      "22   ...        yes       no       4         5      1    1    3      5   \n",
      "23   ...        yes       no       5         4      4    2    4      5   \n",
      "26   ...        yes       no       4         2      2    1    2      5   \n",
      "27   ...        yes       no       2         2      4    2    4      1   \n",
      "28   ...        yes       no       5         3      3    1    1      5   \n",
      "29   ...        yes      yes       4         4      5    5    5      5   \n",
      "30   ...        yes       no       5         4      2    3    4      5   \n",
      "31   ...        yes       no       4         3      1    1    1      5   \n",
      "32   ...        yes      yes       4         5      2    1    1      5   \n",
      "33   ...        yes       no       5         3      2    1    1      2   \n",
      "34   ...        yes       no       5         4      3    1    1      5   \n",
      "36   ...        yes       no       5         4      3    1    1      4   \n",
      "37   ...        yes      yes       2         4      3    1    1      5   \n",
      "..   ...        ...      ...     ...       ...    ...  ...  ...    ...   \n",
      "348  ...        yes      yes       4         4      3    1    3      4   \n",
      "349  ...        yes       no       2         5      5    5    5      5   \n",
      "351  ...        yes       no       4         5      4    2    3      3   \n",
      "354  ...        yes      yes       4         5      5    1    3      2   \n",
      "356  ...        yes       no       4         3      3    1    2      5   \n",
      "357  ...         no      yes       1         2      3    1    2      5   \n",
      "358  ...        yes      yes       3         3      2    1    2      3   \n",
      "359  ...        yes       no       5         3      2    1    1      4   \n",
      "360  ...         no      yes       4         3      4    1    4      5   \n",
      "361  ...         no       no       4         4      3    2    3      5   \n",
      "362  ...        yes      yes       4         3      2    1    3      3   \n",
      "363  ...        yes      yes       2         3      4    1    1      1   \n",
      "364  ...         no       no       3         2      2    1    2      3   \n",
      "365  ...         no       no       3         3      4    2    4      3   \n",
      "366  ...        yes      yes       4         2      2    2    2      5   \n",
      "368  ...        yes      yes       5         2      3    1    2      4   \n",
      "369  ...        yes      yes       3         2      2    4    2      5   \n",
      "371  ...        yes      yes       4         3      3    2    3      3   \n",
      "372  ...         no      yes       3         4      3    1    1      3   \n",
      "374  ...        yes       no       5         4      4    1    1      1   \n",
      "375  ...        yes       no       4         3      2    1    2      4   \n",
      "376  ...        yes      yes       5         4      3    1    1      3   \n",
      "377  ...        yes       no       5         4      3    3    4      2   \n",
      "378  ...        yes      yes       4         1      3    1    2      1   \n",
      "379  ...        yes       no       4         5      4    2    3      1   \n",
      "380  ...        yes       no       3         2      4    1    4      2   \n",
      "382  ...        yes       no       4         4      3    1    1      3   \n",
      "385  ...         no       no       5         3      3    1    3      4   \n",
      "391  ...        yes       no       2         4      5    3    4      2   \n",
      "393  ...        yes       no       4         4      1    3    4      5   \n",
      "\n",
      "    absences passed  \n",
      "2         10    yes  \n",
      "3          2    yes  \n",
      "4          4    yes  \n",
      "5         10    yes  \n",
      "6          0    yes  \n",
      "8          0    yes  \n",
      "9          0    yes  \n",
      "11         4    yes  \n",
      "12         2    yes  \n",
      "13         2    yes  \n",
      "14         0    yes  \n",
      "15         4    yes  \n",
      "16         6    yes  \n",
      "17         4    yes  \n",
      "19         4    yes  \n",
      "20         0    yes  \n",
      "21         0    yes  \n",
      "22         2    yes  \n",
      "23         0    yes  \n",
      "26         2    yes  \n",
      "27         4    yes  \n",
      "28         4    yes  \n",
      "29        16    yes  \n",
      "30         0    yes  \n",
      "31         0    yes  \n",
      "32         0    yes  \n",
      "33         0    yes  \n",
      "34         0    yes  \n",
      "36         2    yes  \n",
      "37         7    yes  \n",
      "..       ...    ...  \n",
      "348        0    yes  \n",
      "349       10    yes  \n",
      "351        2    yes  \n",
      "354        4    yes  \n",
      "356        4    yes  \n",
      "357        2    yes  \n",
      "358        4    yes  \n",
      "359        0    yes  \n",
      "360        0    yes  \n",
      "361        2    yes  \n",
      "362        0    yes  \n",
      "363        0    yes  \n",
      "364        0    yes  \n",
      "365        4    yes  \n",
      "366        0    yes  \n",
      "368        0    yes  \n",
      "369       10    yes  \n",
      "371        3    yes  \n",
      "372        8    yes  \n",
      "374        0    yes  \n",
      "375        2    yes  \n",
      "376        4    yes  \n",
      "377        4    yes  \n",
      "378        0    yes  \n",
      "379       17    yes  \n",
      "380        4    yes  \n",
      "382        2    yes  \n",
      "385        2    yes  \n",
      "391        3    yes  \n",
      "393        0    yes  \n",
      "\n",
      "[265 rows x 31 columns]\n"
     ]
    }
   ],
   "source": [
    "print student_data[student_data['passed'] == 'yes']"
   ]
  },
  {
   "cell_type": "code",
   "execution_count": null,
   "metadata": {
    "collapsed": true
   },
   "outputs": [],
   "source": []
  },
  {
   "cell_type": "markdown",
   "metadata": {},
   "source": [
    "### Implementation: Data Exploration\n",
    "Let's begin by investigating the dataset to determine how many students we have information on, and learn about the graduation rate among these students. In the code cell below, you will need to compute the following:\n",
    "- The total number of students, `n_students`.\n",
    "- The total number of features for each student, `n_features`.\n",
    "- The number of those students who passed, `n_passed`.\n",
    "- The number of those students who failed, `n_failed`.\n",
    "- The graduation rate of the class, `grad_rate`, in percent (%).\n"
   ]
  },
  {
   "cell_type": "code",
   "execution_count": 3,
   "metadata": {
    "collapsed": false
   },
   "outputs": [
    {
     "name": "stdout",
     "output_type": "stream",
     "text": [
      "Total number of students: 395\n",
      "Number of features: 30\n",
      "Number of students who passed: 265\n",
      "Number of students who failed: 130\n",
      "Graduation rate of the class: 67.09%\n"
     ]
    }
   ],
   "source": [
    "# TODO: Calculate number of students\n",
    "n_students = student_data.shape[0]\n",
    "\n",
    "# TODO: Calculate number of features\n",
    "n_features = student_data.shape[1] - 1\n",
    "\n",
    "# TODO: Calculate passing students\n",
    "n_passed = student_data[student_data['passed'] == 'yes'].shape[0]\n",
    "\n",
    "# TODO: Calculate failing students\n",
    "n_failed = student_data[student_data['passed'] == 'no'].shape[0]\n",
    "\n",
    "# TODO: Calculate graduation rate\n",
    "grad_rate = (100.0 * n_passed)/(n_students)\n",
    "\n",
    "# Print the results\n",
    "print \"Total number of students: {}\".format(n_students)\n",
    "print \"Number of features: {}\".format(n_features)\n",
    "print \"Number of students who passed: {}\".format(n_passed)\n",
    "print \"Number of students who failed: {}\".format(n_failed)\n",
    "print \"Graduation rate of the class: {:.2f}%\".format(grad_rate)"
   ]
  },
  {
   "cell_type": "code",
   "execution_count": null,
   "metadata": {
    "collapsed": true
   },
   "outputs": [],
   "source": []
  },
  {
   "cell_type": "code",
   "execution_count": null,
   "metadata": {
    "collapsed": true
   },
   "outputs": [],
   "source": []
  },
  {
   "cell_type": "code",
   "execution_count": null,
   "metadata": {
    "collapsed": true
   },
   "outputs": [],
   "source": []
  },
  {
   "cell_type": "markdown",
   "metadata": {},
   "source": [
    "## Preparing the Data\n",
    "In this section, we will prepare the data for modeling, training and testing.\n",
    "\n",
    "### Identify feature and target columns\n",
    "It is often the case that the data you obtain contains non-numeric features. This can be a problem, as most machine learning algorithms expect numeric data to perform computations with.\n",
    "\n",
    "Run the code cell below to separate the student data into feature and target columns to see if any features are non-numeric."
   ]
  },
  {
   "cell_type": "code",
   "execution_count": 5,
   "metadata": {
    "collapsed": false
   },
   "outputs": [
    {
     "name": "stdout",
     "output_type": "stream",
     "text": [
      "Feature columns:\n",
      "['school', 'sex', 'age', 'address', 'famsize', 'Pstatus', 'Medu', 'Fedu', 'Mjob', 'Fjob', 'reason', 'guardian', 'traveltime', 'studytime', 'failures', 'schoolsup', 'famsup', 'paid', 'activities', 'nursery', 'higher', 'internet', 'romantic', 'famrel', 'freetime', 'goout', 'Dalc', 'Walc', 'health', 'absences']\n",
      "\n",
      "Target column: passed\n",
      "\n",
      "Feature values:\n",
      "  school sex  age address famsize Pstatus  Medu  Fedu     Mjob      Fjob  \\\n",
      "0     GP   F   18       U     GT3       A     4     4  at_home   teacher   \n",
      "1     GP   F   17       U     GT3       T     1     1  at_home     other   \n",
      "2     GP   F   15       U     LE3       T     1     1  at_home     other   \n",
      "3     GP   F   15       U     GT3       T     4     2   health  services   \n",
      "4     GP   F   16       U     GT3       T     3     3    other     other   \n",
      "\n",
      "    ...    higher internet  romantic  famrel  freetime goout Dalc Walc health  \\\n",
      "0   ...       yes       no        no       4         3     4    1    1      3   \n",
      "1   ...       yes      yes        no       5         3     3    1    1      3   \n",
      "2   ...       yes      yes        no       4         3     2    2    3      3   \n",
      "3   ...       yes      yes       yes       3         2     2    1    1      5   \n",
      "4   ...       yes       no        no       4         3     2    1    2      5   \n",
      "\n",
      "  absences  \n",
      "0        6  \n",
      "1        4  \n",
      "2       10  \n",
      "3        2  \n",
      "4        4  \n",
      "\n",
      "[5 rows x 30 columns]\n"
     ]
    }
   ],
   "source": [
    "# Extract feature columns\n",
    "feature_cols = list(student_data.columns[:-1])\n",
    "\n",
    "# Extract target column 'passed'\n",
    "target_col = student_data.columns[-1] \n",
    "\n",
    "# Show the list of columns\n",
    "print \"Feature columns:\\n{}\".format(feature_cols)\n",
    "print \"\\nTarget column: {}\".format(target_col)\n",
    "\n",
    "# Separate the data into feature data and target data (X_all and y_all, respectively)\n",
    "X_all = student_data[feature_cols]\n",
    "y_all = student_data[target_col]\n",
    "\n",
    "# Show the feature information by printing the first five rows\n",
    "print \"\\nFeature values:\"\n",
    "print X_all.head()"
   ]
  },
  {
   "cell_type": "code",
   "execution_count": null,
   "metadata": {
    "collapsed": true
   },
   "outputs": [],
   "source": []
  },
  {
   "cell_type": "code",
   "execution_count": null,
   "metadata": {
    "collapsed": true
   },
   "outputs": [],
   "source": []
  },
  {
   "cell_type": "markdown",
   "metadata": {},
   "source": [
    "### Preprocess Feature Columns\n",
    "\n",
    "As you can see, there are several non-numeric columns that need to be converted! Many of them are simply `yes`/`no`, e.g. `internet`. These can be reasonably converted into `1`/`0` (binary) values.\n",
    "\n",
    "Other columns, like `Mjob` and `Fjob`, have more than two values, and are known as _categorical variables_. The recommended way to handle such a column is to create as many columns as possible values (e.g. `Fjob_teacher`, `Fjob_other`, `Fjob_services`, etc.), and assign a `1` to one of them and `0` to all others.\n",
    "\n",
    "These generated columns are sometimes called _dummy variables_, and we will use the [`pandas.get_dummies()`](http://pandas.pydata.org/pandas-docs/stable/generated/pandas.get_dummies.html?highlight=get_dummies#pandas.get_dummies) function to perform this transformation. Run the code cell below to perform the preprocessing routine discussed in this section."
   ]
  },
  {
   "cell_type": "code",
   "execution_count": 6,
   "metadata": {
    "collapsed": false,
    "scrolled": true
   },
   "outputs": [
    {
     "name": "stdout",
     "output_type": "stream",
     "text": [
      "Processed feature columns (48 total features):\n",
      "['school_GP', 'school_MS', 'sex_F', 'sex_M', 'age', 'address_R', 'address_U', 'famsize_GT3', 'famsize_LE3', 'Pstatus_A', 'Pstatus_T', 'Medu', 'Fedu', 'Mjob_at_home', 'Mjob_health', 'Mjob_other', 'Mjob_services', 'Mjob_teacher', 'Fjob_at_home', 'Fjob_health', 'Fjob_other', 'Fjob_services', 'Fjob_teacher', 'reason_course', 'reason_home', 'reason_other', 'reason_reputation', 'guardian_father', 'guardian_mother', 'guardian_other', 'traveltime', 'studytime', 'failures', 'schoolsup', 'famsup', 'paid', 'activities', 'nursery', 'higher', 'internet', 'romantic', 'famrel', 'freetime', 'goout', 'Dalc', 'Walc', 'health', 'absences']\n"
     ]
    }
   ],
   "source": [
    "def preprocess_features(X):\n",
    "    ''' Preprocesses the student data and converts non-numeric binary variables into\n",
    "        binary (0/1) variables. Converts categorical variables into dummy variables. '''\n",
    "    \n",
    "    # Initialize new output DataFrame\n",
    "    output = pd.DataFrame(index = X.index)\n",
    "\n",
    "    # Investigate each feature column for the data\n",
    "    for col, col_data in X.iteritems():\n",
    "        \n",
    "        # If data type is non-numeric, replace all yes/no values with 1/0\n",
    "        if col_data.dtype == object:\n",
    "            col_data = col_data.replace(['yes', 'no'], [1, 0])\n",
    "\n",
    "        # If data type is categorical, convert to dummy variables\n",
    "        if col_data.dtype == object:\n",
    "            # Example: 'school' => 'school_GP' and 'school_MS'\n",
    "            col_data = pd.get_dummies(col_data, prefix = col)  \n",
    "        \n",
    "        # Collect the revised columns\n",
    "        output = output.join(col_data)\n",
    "    \n",
    "    return output\n",
    "\n",
    "X_all = preprocess_features(X_all)\n",
    "print \"Processed feature columns ({} total features):\\n{}\".format(len(X_all.columns), list(X_all.columns))"
   ]
  },
  {
   "cell_type": "code",
   "execution_count": null,
   "metadata": {
    "collapsed": true
   },
   "outputs": [],
   "source": []
  },
  {
   "cell_type": "markdown",
   "metadata": {},
   "source": [
    "### Implementation: Training and Testing Data Split\n",
    "So far, we have converted all _categorical_ features into numeric values. For the next step, we split the data (both features and corresponding labels) into training and test sets. In the following code cell below, you will need to implement the following:\n",
    "- Randomly shuffle and split the data (`X_all`, `y_all`) into training and testing subsets.\n",
    "  - Use 300 training points (approximately 75%) and 95 testing points (approximately 25%).\n",
    "  - Set a `random_state` for the function(s) you use, if provided.\n",
    "  - Store the results in `X_train`, `X_test`, `y_train`, and `y_test`."
   ]
  },
  {
   "cell_type": "code",
   "execution_count": 7,
   "metadata": {
    "collapsed": false
   },
   "outputs": [
    {
     "name": "stdout",
     "output_type": "stream",
     "text": [
      "Training set has 300 samples.\n",
      "Testing set has 95 samples.\n"
     ]
    }
   ],
   "source": [
    "# TODO: Import any additional functionality you may need here\n",
    "import sklearn.cross_validation as cross_validation\n",
    "# TODO: Set the number of training points\n",
    "num_train = 300\n",
    "\n",
    "# Set the number of testing points\n",
    "num_test = X_all.shape[0] - num_train\n",
    "\n",
    "# TODO: Shuffle and split the dataset into the number of training and testing points above\n",
    "X_train, X_test, y_train, y_test = cross_validation.train_test_split(X_all, y_all, test_size=num_test, train_size=num_train, random_state=0)\n",
    "\n",
    "# Show the results of the split\n",
    "print \"Training set has {} samples.\".format(X_train.shape[0])\n",
    "print \"Testing set has {} samples.\".format(X_test.shape[0])"
   ]
  },
  {
   "cell_type": "code",
   "execution_count": null,
   "metadata": {
    "collapsed": true
   },
   "outputs": [],
   "source": []
  },
  {
   "cell_type": "markdown",
   "metadata": {},
   "source": [
    "## Training and Evaluating Models\n",
    "In this section, you will choose 3 supervised learning models that are appropriate for this problem and available in `scikit-learn`. You will first discuss the reasoning behind choosing these three models by considering what you know about the data and each model's strengths and weaknesses. You will then fit the model to varying sizes of training data (100 data points, 200 data points, and 300 data points) and measure the F<sub>1</sub> score. You will need to produce three tables (one for each model) that shows the training set size, training time, prediction time, F<sub>1</sub> score on the training set, and F<sub>1</sub> score on the testing set.\n",
    "\n",
    "**The following supervised learning models are currently available in** [`scikit-learn`](http://scikit-learn.org/stable/supervised_learning.html) **that you may choose from:**\n",
    "- Gaussian Naive Bayes (GaussianNB)\n",
    "- Decision Trees\n",
    "- Ensemble Methods (Bagging, AdaBoost, Random Forest, Gradient Boosting)\n",
    "- K-Nearest Neighbors (KNeighbors)\n",
    "- Stochastic Gradient Descent (SGDC)\n",
    "- Support Vector Machines (SVM)\n",
    "- Logistic Regression"
   ]
  },
  {
   "cell_type": "markdown",
   "metadata": {},
   "source": [
    "### Question 2 - Model Application\n",
    "*List three supervised learning models that are appropriate for this problem. For each model chosen*\n",
    "- Describe one real-world application in industry where the model can be applied. *(You may need to do a small bit of research for this — give references!)* \n",
    "- What are the strengths of the model; when does it perform well? \n",
    "- What are the weaknesses of the model; when does it perform poorly?\n",
    "- What makes this model a good candidate for the problem, given what you know about the data?"
   ]
  },
  {
   "cell_type": "markdown",
   "metadata": {},
   "source": [
    "**Answer: **\n",
    "\n",
    "### Decision Trees\n",
    "\n",
    "- Decision trees can be used in many different classification problems. One real world example of decision trees are in the detecting microcalcifications in mammography as described [here](http://www.cbcb.umd.edu/~salzberg/docs/murthy_thesis/survey/node32.html)\n",
    "\n",
    "- Decision Trees are extremely simple to implement, and interpret. They have the added advantage of being non parametric meaning they are robust against outliers and cases where the data is not linearly seperable. Additionally, they don't suffer from issues of high dimensionality like KNN. Finally, they require almost no data preparation unlike linear regressions etc.\n",
    "\n",
    "- Decision Trees are prone to overfitting and as such may not generalize well unless we use techniques like pruning. This is often why Random Forests are used instead of Decision Trees. Additionally, Decision Trees can become extremely large for certain datasets leading to a large tree that may be too large to store easily in memory.\n",
    "\n",
    "- This is a good candidate as we are doing simple classification and should be able to easily fit the full tree in memory given the number of features. Additionally, they should be a good starting point for a benchmark of sorts given how easy they are to run.\n",
    "\n",
    "### Ensemble Methods\n",
    "\n",
    "- Boosting, a type of ensemble method, is used to improve character recognition in OCR (Optical Character Recognition).\n",
    "\n",
    "- Ensemble methods give you a lot of flexibility as they are agnostic to the weak learners you use. Additionally boosting, in particular, is great at avoiding overfitting as in many cases, when you increase the sample size, your confidence increases while your error either goes down or stays constant.\n",
    "\n",
    "- One of the disadvantages of boosting, and other ensemble methods, is that they can require some parameter tuning (such as learning rate) which make them harder to implement. However, in the boosting case this can be overcome by using something like ADABOOST.\n",
    "\n",
    "- Ensemble methods, in particular, random forests are often are often great at classification problems (which our problem domain is in). Random Forests, thanks to being an ensemble method, prevent the overfitting often associated with decision trees while preserving the relative simplicity and speed. Ensemble methods, especially Random Forests, are also a great fit for this dataset as the dataset is fairly high dimensional (48 features) and random forests handle this very well.\n",
    "\n",
    "### SVM\n",
    "\n",
    "- SVMs have been used successfully in text classification problems (see [here](http://www-labs.iro.umontreal.ca/~pift6080/H09/documents/papers/svm_tutorial.ppt) )\n",
    "\n",
    "- SVM does well when the data size is fairly small (as in our case!) and when the data is linearly separable on some kernel.\n",
    "\n",
    "- SVM does poorly for large datasets as it has a large time and space complexity. Additionally, SVMs are sometimes hard to use as it can difficult to choose the right kernel.\n",
    "\n",
    "- SVMs are a good fit for this data as this is a classification problem and the dataset is very small (395) so it is realistic to actually implement it on this dataset."
   ]
  },
  {
   "cell_type": "markdown",
   "metadata": {},
   "source": [
    "### Setup\n",
    "Run the code cell below to initialize three helper functions which you can use for training and testing the three supervised learning models you've chosen above. The functions are as follows:\n",
    "- `train_classifier` - takes as input a classifier and training data and fits the classifier to the data.\n",
    "- `predict_labels` - takes as input a fit classifier, features, and a target labeling and makes predictions using the F<sub>1</sub> score.\n",
    "- `train_predict` - takes as input a classifier, and the training and testing data, and performs `train_clasifier` and `predict_labels`.\n",
    " - This function will report the F<sub>1</sub> score for both the training and testing data separately."
   ]
  },
  {
   "cell_type": "code",
   "execution_count": 8,
   "metadata": {
    "collapsed": false
   },
   "outputs": [],
   "source": [
    "def train_classifier(clf, X_train, y_train):\n",
    "    ''' Fits a classifier to the training data. '''\n",
    "    \n",
    "    # Start the clock, train the classifier, then stop the clock\n",
    "    start = time()\n",
    "    clf.fit(X_train, y_train)\n",
    "    end = time()\n",
    "    \n",
    "    # Print the results\n",
    "    print \"Trained model in {:.4f} seconds\".format(end - start)\n",
    "\n",
    "    \n",
    "def predict_labels(clf, features, target):\n",
    "    ''' Makes predictions using a fit classifier based on F1 score. '''\n",
    "    \n",
    "    # Start the clock, make predictions, then stop the clock\n",
    "    start = time()\n",
    "    y_pred = clf.predict(features)\n",
    "    end = time()\n",
    "    \n",
    "    # Print and return results\n",
    "    print \"Made predictions in {:.4f} seconds.\".format(end - start)\n",
    "    return f1_score(target.values, y_pred, pos_label='yes')\n",
    "\n",
    "\n",
    "def train_predict(clf, X_train, y_train, X_test, y_test):\n",
    "    ''' Train and predict using a classifer based on F1 score. '''\n",
    "    \n",
    "    # Indicate the classifier and the training set size\n",
    "    print \"Training a {} using a training set size of {}. . .\".format(clf.__class__.__name__, len(X_train))\n",
    "    \n",
    "    # Train the classifier\n",
    "    train_classifier(clf, X_train, y_train)\n",
    "    \n",
    "    # Print the results of prediction for both training and testing\n",
    "    print \"F1 score for training set: {:.4f}.\".format(predict_labels(clf, X_train, y_train))\n",
    "    print \"F1 score for test set: {:.4f}.\".format(predict_labels(clf, X_test, y_test))"
   ]
  },
  {
   "cell_type": "code",
   "execution_count": null,
   "metadata": {
    "collapsed": true
   },
   "outputs": [],
   "source": []
  },
  {
   "cell_type": "markdown",
   "metadata": {},
   "source": [
    "### Implementation: Model Performance Metrics\n",
    "With the predefined functions above, you will now import the three supervised learning models of your choice and run the `train_predict` function for each one. Remember that you will need to train and predict on each classifier for three different training set sizes: 100, 200, and 300. Hence, you should expect to have 9 different outputs below — 3 for each model using the varying training set sizes. In the following code cell, you will need to implement the following:\n",
    "- Import the three supervised learning models you've discussed in the previous section.\n",
    "- Initialize the three models and store them in `clf_A`, `clf_B`, and `clf_C`.\n",
    " - Use a `random_state` for each model you use, if provided.\n",
    " - **Note:** Use the default settings for each model — you will tune one specific model in a later section.\n",
    "- Create the different training set sizes to be used to train each model.\n",
    " - *Do not reshuffle and resplit the data! The new training points should be drawn from `X_train` and `y_train`.*\n",
    "- Fit each model with each training set size and make predictions on the test set (9 in total).  \n",
    "**Note:** Three tables are provided after the following code cell which can be used to store your results."
   ]
  },
  {
   "cell_type": "code",
   "execution_count": 9,
   "metadata": {
    "collapsed": false,
    "scrolled": true
   },
   "outputs": [
    {
     "name": "stdout",
     "output_type": "stream",
     "text": [
      "Training a DecisionTreeClassifier using a training set size of 100. . .\n",
      "Trained model in 0.0019 seconds\n",
      "Made predictions in 0.0003 seconds.\n",
      "F1 score for training set: 1.0000.\n",
      "Made predictions in 0.0002 seconds.\n",
      "F1 score for test set: 0.6891.\n",
      "Training a DecisionTreeClassifier using a training set size of 200. . .\n",
      "Trained model in 0.0012 seconds\n",
      "Made predictions in 0.0002 seconds.\n",
      "F1 score for training set: 1.0000.\n",
      "Made predictions in 0.0002 seconds.\n",
      "F1 score for test set: 0.7360.\n",
      "Training a DecisionTreeClassifier using a training set size of 300. . .\n",
      "Trained model in 0.0017 seconds\n",
      "Made predictions in 0.0002 seconds.\n",
      "F1 score for training set: 1.0000.\n",
      "Made predictions in 0.0002 seconds.\n",
      "F1 score for test set: 0.7167.\n",
      "Training a GradientBoostingClassifier using a training set size of 100. . .\n",
      "Trained model in 0.0475 seconds\n",
      "Made predictions in 0.0028 seconds.\n",
      "F1 score for training set: 1.0000.\n",
      "Made predictions in 0.0008 seconds.\n",
      "F1 score for test set: 0.6974.\n",
      "Training a GradientBoostingClassifier using a training set size of 200. . .\n",
      "Trained model in 0.0628 seconds\n",
      "Made predictions in 0.0008 seconds.\n",
      "F1 score for training set: 0.9861.\n",
      "Made predictions in 0.0006 seconds.\n",
      "F1 score for test set: 0.7778.\n",
      "Training a GradientBoostingClassifier using a training set size of 300. . .\n",
      "Trained model in 0.0688 seconds\n",
      "Made predictions in 0.0008 seconds.\n",
      "F1 score for training set: 0.9740.\n",
      "Made predictions in 0.0012 seconds.\n",
      "F1 score for test set: 0.7727.\n",
      "Training a SVC using a training set size of 100. . .\n",
      "Trained model in 0.0044 seconds\n",
      "Made predictions in 0.0010 seconds.\n",
      "F1 score for training set: 0.8690.\n",
      "Made predictions in 0.0016 seconds.\n",
      "F1 score for test set: 0.7824.\n",
      "Training a SVC using a training set size of 200. . .\n",
      "Trained model in 0.0028 seconds\n",
      "Made predictions in 0.0019 seconds.\n",
      "F1 score for training set: 0.8765.\n",
      "Made predictions in 0.0019 seconds.\n",
      "F1 score for test set: 0.7781.\n",
      "Training a SVC using a training set size of 300. . .\n",
      "Trained model in 0.0056 seconds\n",
      "Made predictions in 0.0044 seconds.\n",
      "F1 score for training set: 0.8692.\n",
      "Made predictions in 0.0015 seconds.\n",
      "F1 score for test set: 0.7586.\n"
     ]
    }
   ],
   "source": [
    "# TODO: Import the three supervised learning models from sklearn\n",
    "from sklearn import tree\n",
    "from sklearn import ensemble\n",
    "from sklearn import svm\n",
    "from sklearn import cross_validation\n",
    "\n",
    "# TODO: Initialize the three models\n",
    "clf_A = tree.DecisionTreeClassifier(random_state=0)\n",
    "clf_B = ensemble.GradientBoostingClassifier(random_state=0)\n",
    "clf_C = svm.SVC(random_state=0)\n",
    "\n",
    "# TODO: Set up the training set sizes\n",
    "X_train_100, X_test_100, y_train_100, y_test_100 = cross_validation.train_test_split(X_all, y_all, train_size=100, random_state=0)\n",
    "\n",
    "X_train_200, X_test_200, y_train_200, y_test_200 = cross_validation.train_test_split(X_all, y_all, train_size=200, random_state=0)\n",
    "\n",
    "X_train_300, X_test_300, y_train_300, y_test_300 = cross_validation.train_test_split(X_all, y_all, train_size=300, random_state=0)\n",
    "\n",
    "\n",
    "# TODO: Execute the 'train_predict' function for each classifier and each training set size\n",
    "train_predict(clf_A, X_train_100, y_train_100, X_test_100, y_test_100)\n",
    "train_predict(clf_A, X_train_200, y_train_200, X_test_200, y_test_200)\n",
    "train_predict(clf_A, X_train_300, y_train_300, X_test_300, y_test_300)\n",
    "\n",
    "train_predict(clf_B, X_train_100, y_train_100, X_test_100, y_test_100)\n",
    "train_predict(clf_B, X_train_200, y_train_200, X_test_200, y_test_200)\n",
    "train_predict(clf_B, X_train_300, y_train_300, X_test_300, y_test_300)\n",
    "\n",
    "train_predict(clf_C, X_train_100, y_train_100, X_test_100, y_test_100)\n",
    "train_predict(clf_C, X_train_200, y_train_200, X_test_200, y_test_200)\n",
    "train_predict(clf_C, X_train_300, y_train_300, X_test_300, y_test_300)"
   ]
  },
  {
   "cell_type": "code",
   "execution_count": null,
   "metadata": {
    "collapsed": true
   },
   "outputs": [],
   "source": []
  },
  {
   "cell_type": "code",
   "execution_count": null,
   "metadata": {
    "collapsed": true
   },
   "outputs": [],
   "source": []
  },
  {
   "cell_type": "code",
   "execution_count": 10,
   "metadata": {
    "collapsed": false
   },
   "outputs": [
    {
     "name": "stdout",
     "output_type": "stream",
     "text": [
      "Training a GradientBoostingClassifier using a training set size of 300. . .\n",
      "Trained model in 0.0734 seconds\n",
      "Made predictions in 0.0009 seconds.\n",
      "F1 score for training set: 0.9740.\n",
      "Made predictions in 0.0004 seconds.\n",
      "F1 score for test set: 0.7727.\n"
     ]
    }
   ],
   "source": [
    "train_predict(clf_B, X_train, y_train, X_test, y_test)"
   ]
  },
  {
   "cell_type": "code",
   "execution_count": null,
   "metadata": {
    "collapsed": true
   },
   "outputs": [],
   "source": []
  },
  {
   "cell_type": "markdown",
   "metadata": {},
   "source": [
    "### Tabular Results\n",
    "Edit the cell below to see how a table can be designed in [Markdown](https://github.com/adam-p/markdown-here/wiki/Markdown-Cheatsheet#tables). You can record your results from above in the tables provided."
   ]
  },
  {
   "cell_type": "markdown",
   "metadata": {},
   "source": [
    "# ** Classifer 1 - Decision Trees **  \n",
    "\n",
    "| Training Set Size | Training Time | Prediction Time (test) | F1 Score (train) | F1 Score (test) |\n",
    "| :---------------: | :---------------------: | :--------------------: | :--------------: | :-------------: |\n",
    "| 100               |        .0009            |           .0002        |        1         |    .6891        |\n",
    "| 200               |        .0014            |           .0004        |        1         |    .7360        |\n",
    "| 300               |        .0019            |           .0002        |        1         |    .7167        |\n",
    "\n",
    "# ** Classifer 2 - Gradient Boosting Classifier **  \n",
    "\n",
    "| Training Set Size | Training Time | Prediction Time (test) | F1 Score (train) | F1 Score (test) |\n",
    "| :---------------: | :---------------------: | :--------------------: | :--------------: | :-------------: |\n",
    "| 100               |        0.0483           |           .0005        |        1         |    .6974        |\n",
    "| 200               |        0.0654           |           .0006        |        .9861     |    .7778        |\n",
    "| 300               |        0.0758           |           .0010        |        .9740     |    .7727        |\n",
    "\n",
    "# ** Classifer 3 - Support Vector Machines **\n",
    "\n",
    "| Training Set Size | Training Time | Prediction Time (test) | F1 Score (train) | F1 Score (test) |\n",
    "| :---------------: | :---------------------: | :--------------------: | :--------------: | :-------------: |\n",
    "| 100               |        0.0048           |           .0010        |        .8690     |    .7824        |\n",
    "| 200               |        0.0029           |           .0022        |        .8765     |    .7781        |\n",
    "| 300               |        0.0059           |           .0042        |        .8692     |    .7586        |"
   ]
  },
  {
   "cell_type": "code",
   "execution_count": null,
   "metadata": {
    "collapsed": true
   },
   "outputs": [],
   "source": []
  },
  {
   "cell_type": "code",
   "execution_count": null,
   "metadata": {
    "collapsed": true
   },
   "outputs": [],
   "source": []
  },
  {
   "cell_type": "markdown",
   "metadata": {},
   "source": [
    "## Choosing the Best Model\n",
    "In this final section, you will choose from the three supervised learning models the *best* model to use on the student data. You will then perform a grid search optimization for the model over the entire training set (`X_train` and `y_train`) by tuning at least one parameter to improve upon the untuned model's F<sub>1</sub> score. "
   ]
  },
  {
   "cell_type": "markdown",
   "metadata": {},
   "source": [
    "### Question 3 - Choosing the Best Model\n",
    "*Based on the experiments you performed earlier, in one to two paragraphs, explain to the board of supervisors what single model you chose as the best model. Which model is generally the most appropriate based on the available data, limited resources, cost, and performance?*"
   ]
  },
  {
   "cell_type": "markdown",
   "metadata": {},
   "source": [
    "**Answer: **\n",
    "\n",
    "It seems that the best model here is a Gradient Boosting Classifier for a variety of reasons. First of all, I wouldn't worry about the training times or the prediction times as the dataset is so small and everything is less than 0.1 seconds. Given that, our main focus should be the model that gives a strong F1 Score without overfitting. Gradient Boosting Classifiers have an F1 score that increases with training size indicating we are not overfitting our model. Additionally, it has one of the strongest F1 scores at 0.7727 (only exceeded by SVM at training size 100 and training size 200). Again, the training time of this classifier is consistently the highest but given how small this dataset is it's not a cause for concern. If we are to apply this model on a much larger dataset - perhaps for students across the country, then I would recommend trying a different model type potentially.\n",
    "\n",
    "I would be wary about choosing the Decision Tree as the training error is consistently 0 giving a sense that we might be overfitting. I worry that model may not generalize too well to other datasets the school might have."
   ]
  },
  {
   "cell_type": "markdown",
   "metadata": {},
   "source": [
    "### Question 4 - Model in Layman's Terms\n",
    "*In one to two paragraphs, explain to the board of directors in layman's terms how the final model chosen is supposed to work. Be sure that you are describing the major qualities of the model, such as how the model is trained and how the model makes a prediction. Avoid using advanced mathematical or technical jargon, such as describing equations or discussing the algorithm implementation.*"
   ]
  },
  {
   "cell_type": "markdown",
   "metadata": {},
   "source": [
    "**Answer: **\n",
    "\n",
    "A Gradient Boosting algorithm is one of a set of learning methods known as \"Ensemble Learning\" in Machine Learning. Ensemble Learning just means that instead of using one model, you use a bunch of different models and allow them to vote on what they think is the best solution. The logic behind these models is often times a single model may not understand the data as well as a set of different models with different perspectives. One way to think about it is a PTA (Parent - Teacher) committee for a school. Each parent brings a different idea of viewpoint and together, they can come to a better decision than just one person alone. Why is that? This is because when we look at their viewpoint together, they cancel out each other's biases and allow the school do understand all parts of the student and parent body's problems.\n",
    "\n",
    "To be more specific, a gradient boosting algorithm first chooses a random subset of students in the dataset, and then finds a rule that classifies students in that group. It then looks at where it did badly and tries to choose another subset where it has students where the earlier model did a poor job classifying. Given this new subset, it then tries to once again find a rule that classifies students in the new subset and so on and so forth. At the end, we combine these rules to create our classifier. Not all rules are given an equal vote, and those that do a better job of classifying are given a larger vote.\n",
    "\n",
    "The model is trained by passing in a subset of our students and their outcomes. We then test whether this model does a good job by checking whether the generated rules work well on the subset not passed in to the training procedure. The model makes a prediction by looking at a student, understanding his or her attributes, and then, using a rule that works on these attributes, generating a prediction for whether or not the student is at risk."
   ]
  },
  {
   "cell_type": "code",
   "execution_count": null,
   "metadata": {
    "collapsed": true
   },
   "outputs": [],
   "source": []
  },
  {
   "cell_type": "code",
   "execution_count": null,
   "metadata": {
    "collapsed": true
   },
   "outputs": [],
   "source": []
  },
  {
   "cell_type": "markdown",
   "metadata": {},
   "source": [
    "### Implementation: Model Tuning\n",
    "Fine tune the chosen model. Use grid search (`GridSearchCV`) with at least one important parameter tuned with at least 3 different values. You will need to use the entire training set for this. In the code cell below, you will need to implement the following:\n",
    "- Import [`sklearn.grid_search.gridSearchCV`](http://scikit-learn.org/stable/modules/generated/sklearn.grid_search.GridSearchCV.html) and [`sklearn.metrics.make_scorer`](http://scikit-learn.org/stable/modules/generated/sklearn.metrics.make_scorer.html).\n",
    "- Create a dictionary of parameters you wish to tune for the chosen model.\n",
    " - Example: `parameters = {'parameter' : [list of values]}`.\n",
    "- Initialize the classifier you've chosen and store it in `clf`.\n",
    "- Create the F<sub>1</sub> scoring function using `make_scorer` and store it in `f1_scorer`.\n",
    " - Set the `pos_label` parameter to the correct value!\n",
    "- Perform grid search on the classifier `clf` using `f1_scorer` as the scoring method, and store it in `grid_obj`.\n",
    "- Fit the grid search object to the training data (`X_train`, `y_train`), and store it in `grid_obj`."
   ]
  },
  {
   "cell_type": "code",
   "execution_count": null,
   "metadata": {
    "collapsed": true
   },
   "outputs": [],
   "source": []
  },
  {
   "cell_type": "code",
   "execution_count": 11,
   "metadata": {
    "collapsed": false
   },
   "outputs": [
    {
     "name": "stdout",
     "output_type": "stream",
     "text": [
      "Made predictions in 0.0004 seconds.\n",
      "Tuned model has a training F1 score of 0.8316.\n",
      "Made predictions in 0.0004 seconds.\n",
      "Tuned model has a testing F1 score of 0.7945.\n"
     ]
    }
   ],
   "source": [
    "# TODO: Import 'GridSearchCV' and 'make_scorer'\n",
    "from sklearn.grid_search import GridSearchCV\n",
    "from sklearn.metrics import make_scorer, f1_score\n",
    "\n",
    "# TODO: Create the parameters list you wish to tune\n",
    "parameters = {'learning_rate': [0.0001, 0.001, 0.01, 0.1], 'max_depth': [1, 2, 3, 4, 5, 6, 7, 8, 9, 10]}\n",
    "\n",
    "# TODO: Initialize the classifier\n",
    "clf = ensemble.GradientBoostingClassifier(random_state=0)\n",
    "\n",
    "# TODO: Make an f1 scoring function using 'make_scorer' \n",
    "f1_scorer = make_scorer(f1_score, pos_label='yes')\n",
    "\n",
    "# TODO: Perform grid search on the classifier using the f1_scorer as the scoring method\n",
    "grid_obj = GridSearchCV(clf, parameters, scoring=f1_scorer)\n",
    "\n",
    "# TODO: Fit the grid search object to the training data and find the optimal parameters\n",
    "grid_obj = grid_obj.fit(X_train, y_train)\n",
    "\n",
    "# Get the estimator\n",
    "clf = grid_obj.best_estimator_\n",
    "\n",
    "# Report the final F1 score for training and testing after parameter tuning\n",
    "print \"Tuned model has a training F1 score of {:.4f}.\".format(predict_labels(clf, X_train, y_train))\n",
    "print \"Tuned model has a testing F1 score of {:.4f}.\".format(predict_labels(clf, X_test, y_test))"
   ]
  },
  {
   "cell_type": "code",
   "execution_count": null,
   "metadata": {
    "collapsed": true
   },
   "outputs": [],
   "source": []
  },
  {
   "cell_type": "markdown",
   "metadata": {},
   "source": [
    "### Question 5 - Final F<sub>1</sub> Score\n",
    "*What is the final model's F<sub>1</sub> score for training and testing? How does that score compare to the untuned model?*"
   ]
  },
  {
   "cell_type": "markdown",
   "metadata": {},
   "source": [
    "**Answer: **\n",
    "\n",
    "The final F1 score for training is 0.8316, which is less than the untuned score of 0.9740. For Testing it is 0.7945, which is greater than the untuned score of 0.7727."
   ]
  },
  {
   "cell_type": "code",
   "execution_count": null,
   "metadata": {
    "collapsed": true
   },
   "outputs": [],
   "source": []
  },
  {
   "cell_type": "markdown",
   "metadata": {},
   "source": [
    "> **Note**: Once you have completed all of the code implementations and successfully answered each question above, you may finalize your work by exporting the iPython Notebook as an HTML document. You can do this by using the menu above and navigating to  \n",
    "**File -> Download as -> HTML (.html)**. Include the finished document along with this notebook as your submission."
   ]
  }
 ],
 "metadata": {
  "anaconda-cloud": {},
  "kernelspec": {
   "display_name": "Python [Root]",
   "language": "python",
   "name": "Python [Root]"
  },
  "language_info": {
   "codemirror_mode": {
    "name": "ipython",
    "version": 2
   },
   "file_extension": ".py",
   "mimetype": "text/x-python",
   "name": "python",
   "nbconvert_exporter": "python",
   "pygments_lexer": "ipython2",
   "version": "2.7.12"
  }
 },
 "nbformat": 4,
 "nbformat_minor": 0
}
